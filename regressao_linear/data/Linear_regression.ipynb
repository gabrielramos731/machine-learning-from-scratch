{
 "cells": [
  {
   "cell_type": "code",
   "execution_count": 64,
   "metadata": {},
   "outputs": [],
   "source": [
    "import numpy as np\n",
    "import matplotlib.pyplot as plt\n",
    "from sklearn.datasets import make_regression\n",
    "from sklearn.model_selection import train_test_split"
   ]
  },
  {
   "cell_type": "code",
   "execution_count": 65,
   "metadata": {},
   "outputs": [],
   "source": [
    "class linear_reg:\n",
    "    def __init__(self, ajust_method='ols'):\n",
    "        self.ajust_method = ajust_method\n",
    "    \n",
    "    \n",
    "    def fit(self, X, y):\n",
    "        if self.ajust_method == 'ols':\n",
    "            X = np.concatenate([np.ones(shape=(X.shape[0],1)),\n",
    "                                X], axis=1)  # concatenate to compute the bias\n",
    "            self.w = np.linalg.inv(X.T @ X) @ X.T @ y  # Equação normal\n",
    "            self.intercept_ = self.w[0]\n",
    "            self.coef_ = self.w[1:]\n",
    "            \n",
    "        elif self.ajust_method == 'desc_grad':\n",
    "            pass\n",
    "\n",
    "    def predict(self, X):\n",
    "        X = np.concatenate([np.ones(shape=(X.shape[0],1)),\n",
    "                             X], axis=1)\n",
    "        return np.array([X @ self.w])\n",
    "    \n",
    "    def score(self, X_test, y_true):\n",
    "        y_hat = self.predict(X_test)\n",
    "        return 1 - (((y_true - y_hat)** 2).sum() / ((y_true - y_true.mean()) ** 2).sum())\n",
    "\n",
    "    def error(self, X_test, y_true):\n",
    "        y_hat = self.predict(X_test)\n",
    "        return (1 / X_test.shape[0]) * np.sum((y_hat - y_true)**2)"
   ]
  },
  {
   "cell_type": "code",
   "execution_count": 66,
   "metadata": {},
   "outputs": [],
   "source": [
    "np.random.seed(123)\n",
    "X = 2 * np.random.rand(500, 1)\n",
    "y = 5 + 3 * X + np.random.randn(500, 1)\n",
    "\n",
    "# X_train, X_test, y_train, y_test = train_test_split(np.array([X]), np.array([y]))"
   ]
  },
  {
   "cell_type": "code",
   "execution_count": 68,
   "metadata": {},
   "outputs": [
    {
     "data": {
      "text/plain": [
       "array([[4.94219703],\n",
       "       [3.05648061]])"
      ]
     },
     "execution_count": 68,
     "metadata": {},
     "output_type": "execute_result"
    }
   ],
   "source": [
    "md = linear_reg()\n",
    "md.fit(X, y)\n",
    "md.error(X, y)\n",
    "md.w"
   ]
  }
 ],
 "metadata": {
  "kernelspec": {
   "display_name": "base",
   "language": "python",
   "name": "python3"
  },
  "language_info": {
   "codemirror_mode": {
    "name": "ipython",
    "version": 3
   },
   "file_extension": ".py",
   "mimetype": "text/x-python",
   "name": "python",
   "nbconvert_exporter": "python",
   "pygments_lexer": "ipython3",
   "version": "3.11.5"
  }
 },
 "nbformat": 4,
 "nbformat_minor": 2
}
